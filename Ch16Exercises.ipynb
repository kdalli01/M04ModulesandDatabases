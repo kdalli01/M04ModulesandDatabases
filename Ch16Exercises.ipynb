{
 "cells": [
  {
   "cell_type": "code",
   "execution_count": 2,
   "id": "ecf7dd6b-ef0c-4f6f-9676-07618ad9f7e5",
   "metadata": {},
   "outputs": [
    {
     "name": "stdout",
     "output_type": "stream",
     "text": [
      "{'\"author,book\"': '\"J R R Tolkien,The Hobbit\"'}\n",
      "{'\"author,book\"': '\"Lynne Truss,\"Eats, Shoots & Leaves\"\"'}\n"
     ]
    }
   ],
   "source": [
    "#ex. 16.2\n",
    "import csv\n",
    "\n",
    "#Open CSV file and read it with DictReader\n",
    "with open('books.csv', newline='') as csvfile:\n",
    "    reader = csv.DictReader(csvfile)\n",
    "    #books dictionary\n",
    "    books = []\n",
    "    # Iterate through each row and append \n",
    "    for row in reader:\n",
    "        books.append(row)\n",
    "# Print from books with for loop\n",
    "for book in books:\n",
    "    print(book)"
   ]
  },
  {
   "cell_type": "code",
   "execution_count": 12,
   "id": "54c57e99-f1b4-456d-85bf-c80387a07d29",
   "metadata": {},
   "outputs": [
    {
     "ename": "KeyError",
     "evalue": "'title'",
     "output_type": "error",
     "traceback": [
      "\u001b[1;31m---------------------------------------------------------------------------\u001b[0m",
      "\u001b[1;31mKeyError\u001b[0m                                  Traceback (most recent call last)",
      "Cell \u001b[1;32mIn[12], line 16\u001b[0m\n\u001b[0;32m     14\u001b[0m reader \u001b[38;5;241m=\u001b[39m csv\u001b[38;5;241m.\u001b[39mDictReader(csvfile)\n\u001b[0;32m     15\u001b[0m \u001b[38;5;28;01mfor\u001b[39;00m row \u001b[38;5;129;01min\u001b[39;00m reader:\n\u001b[1;32m---> 16\u001b[0m     title \u001b[38;5;241m=\u001b[39m row[\u001b[38;5;124m'\u001b[39m\u001b[38;5;124mtitle\u001b[39m\u001b[38;5;124m'\u001b[39m]\n\u001b[0;32m     17\u001b[0m     author \u001b[38;5;241m=\u001b[39m row[\u001b[38;5;124m'\u001b[39m\u001b[38;5;124mauthor\u001b[39m\u001b[38;5;124m'\u001b[39m]\n\u001b[0;32m     18\u001b[0m     year \u001b[38;5;241m=\u001b[39m \u001b[38;5;28mint\u001b[39m(row[\u001b[38;5;124m'\u001b[39m\u001b[38;5;124myear\u001b[39m\u001b[38;5;124m'\u001b[39m])\n",
      "\u001b[1;31mKeyError\u001b[0m: 'title'"
     ]
    }
   ],
   "source": [
    "#create database for ex 16.8 using the books2.csv file\n",
    "#import csv, from sqlalchemy import create engine function, MetaData collection and Table to access books table\n",
    "import csv\n",
    "from sqlalchemy import create_engine, MetaData, Table\n",
    "engine = create_engine('sqlite:///books.db')\n",
    "metadata = MetaData()\n",
    "metadata.reflect(bind=engine)\n",
    "\n",
    "# Get the books table from MetaData\n",
    "books_table = metadata.tables['books']\n",
    "\n",
    "# Read the books data from books2.csv and insert it into the books table\n",
    "with open('books2.csv', newline='') as csvfile:\n",
    "    reader = csv.DictReader(csvfile)\n",
    "    for row in reader:\n",
    "        title = row['title']\n",
    "        author = row['author']\n",
    "        year = int(row['year'])\n",
    "        # Insert data into the books table\n",
    "        engine.execute(books_table.insert().values(title=title, author=author, year=year))"
   ]
  },
  {
   "cell_type": "code",
   "execution_count": 13,
   "id": "6fa067a6-b51c-412b-9beb-04cea89cfc0b",
   "metadata": {},
   "outputs": [],
   "source": [
    "#ex 16.8\n",
    "#import from sqlalchemy, create_engine function, Metadata collection, database Table, select function\n",
    "from sqlalchemy import create_engine, MetaData, Table, select\n",
    "\n",
    "# Create an SQLAlchemy engine to connect to the SQLite database. Create metadata object\n",
    "engine = create_engine('sqlite:///books.db')\n",
    "metadata = MetaData()\n",
    "metadata.reflect(bind=engine)\n",
    "\n",
    "# Get books from table, create select statement and then run statement. Fetch and print from title column\n",
    "books_table = metadata.tables['books']\n",
    "select_statement = select(books_table.c.title).order_by(books_table.c.title)\n",
    "with engine.connect() as connection:\n",
    "    result = connection.execute(select_statement)\n",
    "    for row in result.fetchall():\n",
    "        print(row[0])\n"
   ]
  },
  {
   "cell_type": "code",
   "execution_count": null,
   "id": "bdb46ade-2869-4bd4-b2f5-fb2a151b941a",
   "metadata": {},
   "outputs": [],
   "source": []
  },
  {
   "cell_type": "code",
   "execution_count": null,
   "id": "c304ba09-5279-42bc-9967-f55fbd7651b3",
   "metadata": {},
   "outputs": [],
   "source": []
  }
 ],
 "metadata": {
  "kernelspec": {
   "display_name": "Python 3 (ipykernel)",
   "language": "python",
   "name": "python3"
  },
  "language_info": {
   "codemirror_mode": {
    "name": "ipython",
    "version": 3
   },
   "file_extension": ".py",
   "mimetype": "text/x-python",
   "name": "python",
   "nbconvert_exporter": "python",
   "pygments_lexer": "ipython3",
   "version": "3.11.7"
  }
 },
 "nbformat": 4,
 "nbformat_minor": 5
}
